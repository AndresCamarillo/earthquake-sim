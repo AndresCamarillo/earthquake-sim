{
 "cells": [
  {
   "cell_type": "markdown",
   "id": "fd1431b6",
   "metadata": {},
   "source": [
    "## Get data"
   ]
  },
  {
   "cell_type": "code",
   "execution_count": 30,
   "id": "ac2d6aa4",
   "metadata": {},
   "outputs": [],
   "source": [
    "import pandas as pd\n",
    "import datetime"
   ]
  },
  {
   "cell_type": "code",
   "execution_count": 22,
   "id": "90536c55",
   "metadata": {},
   "outputs": [],
   "source": [
    "# Note:\n",
    "# Data from 1900 to 1973 includes only earthquakes with magnitude > 6.5. \n",
    "# Data from 1974 to 2023 includes only earthquakes with magnitude > 5.5.\n",
    "\n",
    "# Scrape the data\n",
    "url = 'http://www2.ssn.unam.mx:8080/sismos-fuertes/'\n",
    "df = pd.read_html(url)[0]\n",
    "\n",
    "# Clean the data\n",
    "df.columns = df.iloc[0]\n",
    "df = df[1:]\n",
    "df = df.drop(df.columns[0], axis=1)\n",
    "df = df.rename(columns={'Fecha':'Date', 'Hora':'Time', 'Latitud':'Latitude', 'Longitud':'Longitude', \n",
    "                        'Profundidad (km)':'Depth (km)', 'Magnitud':'Magnitude', 'Localizaci&oacuten':'Localizacion',\n",
    "                        'Fecha UTC':'Date UTC', 'Hora UTC':'Time UTC'})"
   ]
  },
  {
   "cell_type": "code",
   "execution_count": 23,
   "id": "50e2a5c0",
   "metadata": {},
   "outputs": [
    {
     "data": {
      "text/html": [
       "<div>\n",
       "<style scoped>\n",
       "    .dataframe tbody tr th:only-of-type {\n",
       "        vertical-align: middle;\n",
       "    }\n",
       "\n",
       "    .dataframe tbody tr th {\n",
       "        vertical-align: top;\n",
       "    }\n",
       "\n",
       "    .dataframe thead th {\n",
       "        text-align: right;\n",
       "    }\n",
       "</style>\n",
       "<table border=\"1\" class=\"dataframe\">\n",
       "  <thead>\n",
       "    <tr style=\"text-align: right;\">\n",
       "      <th></th>\n",
       "      <th>Date</th>\n",
       "      <th>Time</th>\n",
       "      <th>Latitude</th>\n",
       "      <th>Longitude</th>\n",
       "      <th>Depth (km)</th>\n",
       "      <th>Magnitude</th>\n",
       "      <th>Localizacion</th>\n",
       "      <th>Date UTC</th>\n",
       "      <th>Time UTC</th>\n",
       "    </tr>\n",
       "  </thead>\n",
       "  <tbody>\n",
       "    <tr>\n",
       "      <th>1</th>\n",
       "      <td>2023-06-18</td>\n",
       "      <td>14:30:22</td>\n",
       "      <td>23.29</td>\n",
       "      <td>-108.55</td>\n",
       "      <td>5</td>\n",
       "      <td>6.4</td>\n",
       "      <td>122 km al ESTE de SAN JOSE DEL CABO, BCS</td>\n",
       "      <td>2023-06-18</td>\n",
       "      <td>20:30:22</td>\n",
       "    </tr>\n",
       "    <tr>\n",
       "      <th>2</th>\n",
       "      <td>2023-04-03</td>\n",
       "      <td>20:11:59</td>\n",
       "      <td>16.01</td>\n",
       "      <td>-97.06</td>\n",
       "      <td>26</td>\n",
       "      <td>5.5</td>\n",
       "      <td>17 km al NORTE de PUERTO ESCONDIDO, OAX</td>\n",
       "      <td>2023-04-04</td>\n",
       "      <td>02:11:59</td>\n",
       "    </tr>\n",
       "    <tr>\n",
       "      <th>3</th>\n",
       "      <td>2023-03-01</td>\n",
       "      <td>22:40:43</td>\n",
       "      <td>16.17</td>\n",
       "      <td>-94.53</td>\n",
       "      <td>98</td>\n",
       "      <td>5.8</td>\n",
       "      <td>47 km al SURESTE de UNION HIDALGO, OAX</td>\n",
       "      <td>2023-03-02</td>\n",
       "      <td>04:40:43</td>\n",
       "    </tr>\n",
       "    <tr>\n",
       "      <th>4</th>\n",
       "      <td>2023-02-08</td>\n",
       "      <td>09:16:25</td>\n",
       "      <td>16.82</td>\n",
       "      <td>-86.56</td>\n",
       "      <td>18</td>\n",
       "      <td>5.5</td>\n",
       "      <td>262 km al SURESTE de CHETUMAL, QR</td>\n",
       "      <td>2023-02-08</td>\n",
       "      <td>15:16:25</td>\n",
       "    </tr>\n",
       "    <tr>\n",
       "      <th>5</th>\n",
       "      <td>2022-12-11</td>\n",
       "      <td>08:31:32</td>\n",
       "      <td>17.1298</td>\n",
       "      <td>-100.627</td>\n",
       "      <td>24</td>\n",
       "      <td>6.0</td>\n",
       "      <td>10 km al SUR de TECPAN, GRO</td>\n",
       "      <td>2022-12-11</td>\n",
       "      <td>14:31:32</td>\n",
       "    </tr>\n",
       "  </tbody>\n",
       "</table>\n",
       "</div>"
      ],
      "text/plain": [
       "0        Date      Time Latitude Longitude Depth (km) Magnitude  \\\n",
       "1  2023-06-18  14:30:22    23.29   -108.55          5       6.4   \n",
       "2  2023-04-03  20:11:59    16.01    -97.06         26       5.5   \n",
       "3  2023-03-01  22:40:43    16.17    -94.53         98       5.8   \n",
       "4  2023-02-08  09:16:25    16.82    -86.56         18       5.5   \n",
       "5  2022-12-11  08:31:32  17.1298  -100.627         24       6.0   \n",
       "\n",
       "0                              Localizacion    Date UTC  Time UTC  \n",
       "1  122 km al ESTE de SAN JOSE DEL CABO, BCS  2023-06-18  20:30:22  \n",
       "2   17 km al NORTE de PUERTO ESCONDIDO, OAX  2023-04-04  02:11:59  \n",
       "3    47 km al SURESTE de UNION HIDALGO, OAX  2023-03-02  04:40:43  \n",
       "4         262 km al SURESTE de CHETUMAL, QR  2023-02-08  15:16:25  \n",
       "5               10 km al SUR de TECPAN, GRO  2022-12-11  14:31:32  "
      ]
     },
     "execution_count": 23,
     "metadata": {},
     "output_type": "execute_result"
    }
   ],
   "source": [
    "df.head()"
   ]
  },
  {
   "cell_type": "markdown",
   "id": "45ee4b50",
   "metadata": {},
   "source": [
    "## Get the probability distribution for eathquakes per year"
   ]
  },
  {
   "cell_type": "code",
   "execution_count": 24,
   "id": "d3eb0d78",
   "metadata": {},
   "outputs": [],
   "source": [
    "from matplotlib import pyplot as plt\n",
    "import numpy as np"
   ]
  },
  {
   "cell_type": "code",
   "execution_count": 25,
   "id": "3bc34666",
   "metadata": {},
   "outputs": [],
   "source": [
    "df.loc[df['Magnitude'] == '~6.4', 'Magnitude'] = 6.4 # Fix a data value"
   ]
  },
  {
   "cell_type": "code",
   "execution_count": 31,
   "id": "7ef7aa91",
   "metadata": {},
   "outputs": [],
   "source": [
    "def get_distribution(min_magnitude=6.5):\n",
    "    \"\"\"\n",
    "    Gets the probability distribution of the number of earthquake that occur in a year in Mexico.\n",
    "    \n",
    "    Args:\n",
    "        min_magnitude (float): Minimum earthquake magnitude to consider (default is 6.5).\n",
    "        \n",
    "    Returns:\n",
    "        eq_distribution_norm (Pandas Series): The normalized probability distribution.\n",
    "    \"\"\"\n",
    "    \n",
    "    # Get only the earthquakes with a magnitude above min_magnitude\n",
    "    df['Magnitude'] = df['Magnitude'].astype(float)\n",
    "    strong_eq_df = df[ df['Magnitude'] > min_magnitude ].copy()\n",
    "\n",
    "    # Get a \"Year\" column from the \"Date\" column\n",
    "    strong_eq_df['Date'] = pd.to_datetime(strong_eq_df['Date'])\n",
    "    strong_eq_df.loc[:, 'Year'] = strong_eq_df['Date'].dt.year\n",
    "    current_year = datetime.datetime.now().year\n",
    "    strong_eq_df = strong_eq_df[ strong_eq_df['Year'] < current_year ] # Remove the current year as it hasn't ended yet\n",
    "    \n",
    "    # Get the distribution\n",
    "    eq_per_year = strong_eq_df.groupby('Year').count()['Magnitude'] # Get the earthquakes per year\n",
    "    eq_distribution = eq_per_year.value_counts() # Get the absolute distribution\n",
    "    eq_distribution_norm = eq_distribution / eq_distribution.sum() # Normalize the values (get the probability distribution)\n",
    "    \n",
    "    \n",
    "    # Plot the distribution\n",
    "    \n",
    "    # Convert to list\n",
    "    number_list = list(eq_distribution_norm.index)\n",
    "    probabilities_list = list(eq_distribution_norm.values)\n",
    "    \n",
    "    # Plot the graph\n",
    "    plt.style.use('seaborn') # Set the style\n",
    "    plt.bar(number_list, probabilities_list, label=probabilities_list) \n",
    "    \n",
    "    # Add and format the labels\n",
    "    plt.xlabel(\"Number of Earthquakes with Magnitude > \" + str(min_magnitude))\n",
    "    plt.ylabel(\"Probability of Occurrence\")\n",
    "    plt.title(\"Number of Earthquakes per Year in Mexico Since 1900\", fontsize=14)\n",
    "    for i, v in enumerate(probabilities_list): # Add data labels\n",
    "        plt.text(number_list[i], v+0.005, str(round(v,2)), ha='center')\n",
    "    \n",
    "    # Show the graph\n",
    "    plt.show()\n",
    "    \n",
    "    return eq_distribution_norm"
   ]
  },
  {
   "cell_type": "code",
   "execution_count": 32,
   "id": "dd22ed83",
   "metadata": {
    "scrolled": true
   },
   "outputs": [
    {
     "data": {
      "image/png": "[encoded data removed]",
      "text/plain": [
       "<Figure size 576x396 with 1 Axes>"
      ]
     },
     "metadata": {},
     "output_type": "display_data"
    }
   ],
   "source": [
    "distribution = get_distribution()"
   ]
  },
  {
   "cell_type": "markdown",
   "id": "94a96ee9",
   "metadata": {},
   "source": [
    "## Simulation"
   ]
  },
  {
   "cell_type": "code",
   "execution_count": 33,
   "id": "2fc4b27d",
   "metadata": {},
   "outputs": [],
   "source": [
    "def simulation(runs, years=37):\n",
    "    \"\"\"\n",
    "    Simulate earthquake occurrences for a given number of runs and years.\n",
    "    \n",
    "    Args:\n",
    "        runs (int): The number of simulation runs.\n",
    "        years (int): The number of years per simulation run (default is 37).\n",
    "        \n",
    "    Returns:\n",
    "        max_nums (dict): Probability distribution of the maximum number of earthquakes that occur on a single date within \n",
    "            the given period of time. The keys represent the number of earthquakes, and the values represent the probability\n",
    "            of that number of earthquakes occurring.\n",
    "    \"\"\"\n",
    "    max_nums = {}\n",
    "    \n",
    "    # For each run of the simulation\n",
    "    for run in range(runs): \n",
    "        eq_days = {} # This dictionary will store the numbers of earthquakes for each calendar date\n",
    "        \n",
    "        # For each year\n",
    "        for year in range(years):\n",
    "            num_earthquakes = np.random.choice(distribution.index, p=distribution.values) # Randomly get the number of earthquakes in the year\n",
    "            \n",
    "            # For each earthquake\n",
    "            for earthquake in range(num_earthquakes):\n",
    "                eq_day = np.random.randint(low=1, high=366) # Randomly get the calendar date where the earthquake occured\n",
    "                \n",
    "                # Store the earthquake date\n",
    "                if eq_day in eq_days:\n",
    "                    eq_days[eq_day] += 1\n",
    "                else:\n",
    "                    eq_days[eq_day] = 1\n",
    "                    \n",
    "        max_num = max(eq_days.values()) # Number of earthquakes on the calendar date with the most earthquakes\n",
    "        \n",
    "        # Store the number of earthquakes on the calendar date with the most earthquakes\n",
    "        if max_num in max_nums:\n",
    "            max_nums[max_num] += 1\n",
    "        else:\n",
    "            max_nums[max_num] = 1\n",
    "    \n",
    "    # Normalize values in the distribution\n",
    "    for key in max_nums:\n",
    "        max_nums[key] = max_nums[key] / runs\n",
    "        \n",
    "    # Plot the distribution\n",
    "    \n",
    "    # Convert to list\n",
    "    number_list = list(max_nums.keys())\n",
    "    probabilities_list = max_nums.values()\n",
    "    \n",
    "    # Plot the graph\n",
    "    plt.bar(max_nums.keys(), max_nums.values())\n",
    "    \n",
    "    # Add and format the labels\n",
    "    plt.xlabel(\"Number of Earthquakes on the Maximum Date (in 37 years)\", fontsize=14)\n",
    "    plt.ylabel(\"Probability of Occurence\")\n",
    "    plt.title(\"Number of Earthquakes on Maximum Date\", fontsize=14)\n",
    "    plt.xticks(list(max_nums.keys()), [str(k) for k in max_nums.keys()]) #  Fix the x ticks\n",
    "    for i, v in enumerate(probabilities_list): # Add data labels\n",
    "        plt.text(number_list[i], v+0.005, str(round(v,2)), ha='center')\n",
    "    \n",
    "    # Show the graph\n",
    "    plt.show()\n",
    "        \n",
    "    return max_nums"
   ]
  },
  {
   "cell_type": "code",
   "execution_count": 35,
   "id": "f042f925",
   "metadata": {},
   "outputs": [
    {
     "data": {
      "image/png": "[encoded data removed]",
      "text/plain": [
       "<Figure size 576x396 with 1 Axes>"
      ]
     },
     "metadata": {},
     "output_type": "display_data"
    },
    {
     "data": {
      "text/plain": [
       "{2: 0.6387, 3: 0.338, 4: 0.0223, 1: 0.0007, 5: 0.0003}"
      ]
     },
     "execution_count": 35,
     "metadata": {},
     "output_type": "execute_result"
    }
   ],
   "source": [
    "simulation(10000)"
   ]
  }
 ],
 "metadata": {
  "kernelspec": {
   "display_name": "Python 3 (ipykernel)",
   "language": "python",
   "name": "python3"
  },
  "language_info": {
   "codemirror_mode": {
    "name": "ipython",
    "version": 3
   },
   "file_extension": ".py",
   "mimetype": "text/x-python",
   "name": "python",
   "nbconvert_exporter": "python",
   "pygments_lexer": "ipython3",
   "version": "3.9.7"
  }
 },
 "nbformat": 4,
 "nbformat_minor": 5
}
