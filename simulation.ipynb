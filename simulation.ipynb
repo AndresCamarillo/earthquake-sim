{
 "cells": [
  {
   "cell_type": "markdown",
   "id": "fd1431b6",
   "metadata": {},
   "source": [
    "## Get data"
   ]
  },
  {
   "cell_type": "code",
   "execution_count": 1,
   "id": "ac2d6aa4",
   "metadata": {},
   "outputs": [],
   "source": [
    "import pandas as pd"
   ]
  },
  {
   "cell_type": "code",
   "execution_count": 2,
   "id": "25f27391",
   "metadata": {},
   "outputs": [],
   "source": [
    "df = pd.read_excel('UNAM Mexico Earthquakes.xlsx')\n",
    "\n",
    "# Note:\n",
    "# Data from 1900 to 1973 includes only earthquakes with magnitude > 6.5. \n",
    "# Data from 1974 to 2023 includes only earthquakes with magnitude > 5.5.\n",
    "# Source: http://www2.ssn.unam.mx:8080/sismos-fuertes/"
   ]
  },
  {
   "cell_type": "code",
   "execution_count": 3,
   "id": "736924be",
   "metadata": {},
   "outputs": [
    {
     "data": {
      "text/html": [
       "<div>\n",
       "<style scoped>\n",
       "    .dataframe tbody tr th:only-of-type {\n",
       "        vertical-align: middle;\n",
       "    }\n",
       "\n",
       "    .dataframe tbody tr th {\n",
       "        vertical-align: top;\n",
       "    }\n",
       "\n",
       "    .dataframe thead th {\n",
       "        text-align: right;\n",
       "    }\n",
       "</style>\n",
       "<table border=\"1\" class=\"dataframe\">\n",
       "  <thead>\n",
       "    <tr style=\"text-align: right;\">\n",
       "      <th></th>\n",
       "      <th>Date</th>\n",
       "      <th>Time</th>\n",
       "      <th>Latitude</th>\n",
       "      <th>Longitude</th>\n",
       "      <th>Depth (km)</th>\n",
       "      <th>Magnitude</th>\n",
       "      <th>Location</th>\n",
       "      <th>Date UTC</th>\n",
       "      <th>Time UTC</th>\n",
       "    </tr>\n",
       "  </thead>\n",
       "  <tbody>\n",
       "    <tr>\n",
       "      <th>0</th>\n",
       "      <td>2023-04-03</td>\n",
       "      <td>20:11:59</td>\n",
       "      <td>16.0100</td>\n",
       "      <td>-97.060</td>\n",
       "      <td>26</td>\n",
       "      <td>5.5</td>\n",
       "      <td>17 km al NORTE de PUERTO ESCONDIDO, OAX</td>\n",
       "      <td>2023-04-04</td>\n",
       "      <td>02:11:59</td>\n",
       "    </tr>\n",
       "    <tr>\n",
       "      <th>1</th>\n",
       "      <td>2023-03-01</td>\n",
       "      <td>22:40:43</td>\n",
       "      <td>16.1700</td>\n",
       "      <td>-94.530</td>\n",
       "      <td>98</td>\n",
       "      <td>5.8</td>\n",
       "      <td>47 km al SURESTE de UNION HIDALGO, OAX</td>\n",
       "      <td>2023-03-02</td>\n",
       "      <td>04:40:43</td>\n",
       "    </tr>\n",
       "    <tr>\n",
       "      <th>2</th>\n",
       "      <td>2023-02-08</td>\n",
       "      <td>09:16:25</td>\n",
       "      <td>16.8200</td>\n",
       "      <td>-86.560</td>\n",
       "      <td>18</td>\n",
       "      <td>5.5</td>\n",
       "      <td>262 km al SURESTE de CHETUMAL, QR</td>\n",
       "      <td>2023-02-08</td>\n",
       "      <td>15:16:25</td>\n",
       "    </tr>\n",
       "    <tr>\n",
       "      <th>3</th>\n",
       "      <td>2022-12-11</td>\n",
       "      <td>08:31:32</td>\n",
       "      <td>17.1298</td>\n",
       "      <td>-100.627</td>\n",
       "      <td>24</td>\n",
       "      <td>6</td>\n",
       "      <td>10 km al SUR de TECPAN, GRO</td>\n",
       "      <td>2022-12-11</td>\n",
       "      <td>14:31:32</td>\n",
       "    </tr>\n",
       "    <tr>\n",
       "      <th>4</th>\n",
       "      <td>2022-11-22</td>\n",
       "      <td>10:39:05</td>\n",
       "      <td>30.6167</td>\n",
       "      <td>-116.393</td>\n",
       "      <td>10</td>\n",
       "      <td>6.2</td>\n",
       "      <td>41 km al SUROESTE de VICENTE GUERRERO, BC</td>\n",
       "      <td>2022-11-22</td>\n",
       "      <td>16:39:05</td>\n",
       "    </tr>\n",
       "  </tbody>\n",
       "</table>\n",
       "</div>"
      ],
      "text/plain": [
       "        Date      Time  Latitude  Longitude  Depth (km) Magnitude  \\\n",
       "0 2023-04-03  20:11:59   16.0100    -97.060          26       5.5   \n",
       "1 2023-03-01  22:40:43   16.1700    -94.530          98       5.8   \n",
       "2 2023-02-08  09:16:25   16.8200    -86.560          18       5.5   \n",
       "3 2022-12-11  08:31:32   17.1298   -100.627          24         6   \n",
       "4 2022-11-22  10:39:05   30.6167   -116.393          10       6.2   \n",
       "\n",
       "                                    Location   Date UTC  Time UTC  \n",
       "0    17 km al NORTE de PUERTO ESCONDIDO, OAX 2023-04-04  02:11:59  \n",
       "1     47 km al SURESTE de UNION HIDALGO, OAX 2023-03-02  04:40:43  \n",
       "2          262 km al SURESTE de CHETUMAL, QR 2023-02-08  15:16:25  \n",
       "3                10 km al SUR de TECPAN, GRO 2022-12-11  14:31:32  \n",
       "4  41 km al SUROESTE de VICENTE GUERRERO, BC 2022-11-22  16:39:05  "
      ]
     },
     "execution_count": 3,
     "metadata": {},
     "output_type": "execute_result"
    }
   ],
   "source": [
    "df.head() # Print a preview of the raw data"
   ]
  },
  {
   "cell_type": "markdown",
   "id": "45ee4b50",
   "metadata": {},
   "source": [
    "## Get the probability distribution for eathquakes per year"
   ]
  },
  {
   "cell_type": "code",
   "execution_count": 4,
   "id": "d3eb0d78",
   "metadata": {},
   "outputs": [],
   "source": [
    "from matplotlib import pyplot as plt\n",
    "import numpy as np"
   ]
  },
  {
   "cell_type": "code",
   "execution_count": 5,
   "id": "3bc34666",
   "metadata": {},
   "outputs": [],
   "source": [
    "df.loc[df['Magnitude'] == '~6.4', 'Magnitude'] = 6.4 # Fix a data value"
   ]
  },
  {
   "cell_type": "code",
   "execution_count": 6,
   "id": "7ef7aa91",
   "metadata": {},
   "outputs": [],
   "source": [
    "def get_distribution(min_magnitude=6.5):\n",
    "    \"\"\"\n",
    "    Gets the probability distribution of the number of earthquake that occur in a year in Mexico.\n",
    "    \n",
    "    Args:\n",
    "        min_magnitude (float): Minimum earthquake magnitude to consider (default is 6.5).\n",
    "        \n",
    "    Returns:\n",
    "        eq_distribution_norm (Pandas Series): The normalized probability distribution.\n",
    "    \"\"\"\n",
    "    \n",
    "    # Get only the earthquakes with a magnitude above min_magnitude\n",
    "    df['Magnitude'] = df['Magnitude'].astype(float)\n",
    "    strong_eq_df = df[ df['Magnitude'] > min_magnitude ].copy()\n",
    "\n",
    "    # Get a \"Year\" column from the \"Date\" column\n",
    "    strong_eq_df.loc[:, 'Year'] = strong_eq_df['Date'].dt.year\n",
    "    strong_eq_df = strong_eq_df[ strong_eq_df['Year'] < 2023 ] # Remove 2023, as the year hasn't ended yet\n",
    "    \n",
    "    # Get the distribution\n",
    "    eq_per_year = strong_eq_df.groupby('Year').count()['Magnitude'] # Get the earthquakes per year\n",
    "    eq_distribution = eq_per_year.value_counts() # Get the absolute distribution\n",
    "    eq_distribution_norm = eq_distribution / eq_distribution.sum() # Normalize the values (get the probability distribution)\n",
    "    \n",
    "    \n",
    "    # Plot the distribution\n",
    "    \n",
    "    # Convert to list\n",
    "    number_list = list(eq_distribution_norm.index)\n",
    "    probabilities_list = list(eq_distribution_norm.values)\n",
    "    \n",
    "    # Plot the graph\n",
    "    plt.style.use('seaborn') # Set the style\n",
    "    plt.bar(number_list, probabilities_list, label=probabilities_list) \n",
    "    \n",
    "    # Add and format the labels\n",
    "    plt.xlabel(\"Number of Earthquakes with Magnitude > \" + str(min_magnitude))\n",
    "    plt.ylabel(\"Probability of Occurrence\")\n",
    "    plt.title(\"Number of Earthquakes per Year in Mexico Since 1900\", fontsize=14)\n",
    "    for i, v in enumerate(probabilities_list): # Add data labels\n",
    "        plt.text(number_list[i], v+0.005, str(round(v,2)), ha='center')\n",
    "    \n",
    "    # Show the graph\n",
    "    plt.show()\n",
    "    \n",
    "    return eq_distribution_norm"
   ]
  },
  {
   "cell_type": "code",
   "execution_count": 7,
   "id": "dd22ed83",
   "metadata": {
    "scrolled": true
   },
   "outputs": [
    {
     "data": {
      "image/png": "[encoded data removed]",
      "text/plain": [
       "<Figure size 576x396 with 1 Axes>"
      ]
     },
     "metadata": {},
     "output_type": "display_data"
    }
   ],
   "source": [
    "distribution = get_distribution()"
   ]
  },
  {
   "cell_type": "markdown",
   "id": "94a96ee9",
   "metadata": {},
   "source": [
    "## Simulation"
   ]
  },
  {
   "cell_type": "code",
   "execution_count": 8,
   "id": "2fc4b27d",
   "metadata": {},
   "outputs": [],
   "source": [
    "def simulation(runs, years=37):\n",
    "    \"\"\"\n",
    "    Simulate earthquake occurrences for a given number of runs and years.\n",
    "    \n",
    "    Args:\n",
    "        runs (int): The number of simulation runs.\n",
    "        years (int): The number of years per simulation run (default is 37).\n",
    "        \n",
    "    Returns:\n",
    "        max_nums (dict): Probability distribution of the maximum number of earthquakes that occur on a single date within \n",
    "            the given period of time. The keys represent the number of earthquakes, and the values represent the probability\n",
    "            of that number of earthquakes occurring.\n",
    "    \"\"\"\n",
    "    max_nums = {}\n",
    "    \n",
    "    # For each run of the simulation\n",
    "    for run in range(runs): \n",
    "        eq_days = {} # This dictionary will store the numbers of earthquakes for each calendar date\n",
    "        \n",
    "        # For each year\n",
    "        for year in range(years):\n",
    "            num_earthquakes = np.random.choice(distribution.index, p=distribution.values) # Randomly get the number of earthquakes in the year\n",
    "            \n",
    "            # For each earthquake\n",
    "            for earthquake in range(num_earthquakes):\n",
    "                eq_day = np.random.randint(low=1, high=366) # Randomly get the calendar date where the earthquake occured\n",
    "                \n",
    "                # Store the earthquake date\n",
    "                if eq_day in eq_days:\n",
    "                    eq_days[eq_day] += 1\n",
    "                else:\n",
    "                    eq_days[eq_day] = 1\n",
    "                    \n",
    "        max_num = max(eq_days.values()) # Number of earthquakes on the calendar date with the most earthquakes\n",
    "        \n",
    "        # Store the number of earthquakes on the calendar date with the most earthquakes\n",
    "        if max_num in max_nums:\n",
    "            max_nums[max_num] += 1\n",
    "        else:\n",
    "            max_nums[max_num] = 1\n",
    "    \n",
    "    # Normalize values in the distribution\n",
    "    for key in max_nums:\n",
    "        max_nums[key] = max_nums[key] / runs\n",
    "        \n",
    "    # Plot the distribution\n",
    "    \n",
    "    # Convert to list\n",
    "    number_list = list(max_nums.keys())\n",
    "    probabilities_list = max_nums.values()\n",
    "    \n",
    "    # Plot the graph\n",
    "    plt.bar(max_nums.keys(), max_nums.values())\n",
    "    \n",
    "    # Add and format the labels\n",
    "    plt.xlabel(\"Number of Earthquakes on the Maximum Date (in 37 years)\", fontsize=14)\n",
    "    plt.ylabel(\"Probability of Occurence\")\n",
    "    plt.title(\"Number of Earthquakes on Maximum Date\", fontsize=14)\n",
    "    plt.xticks(list(max_nums.keys()), [str(k) for k in max_nums.keys()]) #  Fix the x ticks\n",
    "    for i, v in enumerate(probabilities_list): # Add data labels\n",
    "        plt.text(number_list[i], v+0.005, str(round(v,2)), ha='center')\n",
    "    \n",
    "    # Show the graph\n",
    "    plt.show()\n",
    "        \n",
    "    return max_nums"
   ]
  },
  {
   "cell_type": "code",
   "execution_count": 9,
   "id": "f042f925",
   "metadata": {},
   "outputs": [
    {
     "data": {
      "image/png": "[encoded data removed]",
      "text/plain": [
       "<Figure size 576x396 with 1 Axes>"
      ]
     },
     "metadata": {},
     "output_type": "display_data"
    },
    {
     "data": {
      "text/plain": [
       "{2: 0.64404, 3: 0.33411, 4: 0.02059, 5: 0.00065, 1: 0.00059, 6: 2e-05}"
      ]
     },
     "execution_count": 9,
     "metadata": {},
     "output_type": "execute_result"
    }
   ],
   "source": [
    "simulation(100000)"
   ]
  }
 ],
 "metadata": {
  "kernelspec": {
   "display_name": "Python 3 (ipykernel)",
   "language": "python",
   "name": "python3"
  },
  "language_info": {
   "codemirror_mode": {
    "name": "ipython",
    "version": 3
   },
   "file_extension": ".py",
   "mimetype": "text/x-python",
   "name": "python",
   "nbconvert_exporter": "python",
   "pygments_lexer": "ipython3",
   "version": "3.9.7"
  }
 },
 "nbformat": 4,
 "nbformat_minor": 5
}
